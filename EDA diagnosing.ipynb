{
 "cells": [
  {
   "cell_type": "markdown",
   "id": "8cb1ce2b",
   "metadata": {},
   "source": [
    "# How certain diagnostic factors affect the diabetes outcome of women patients\n",
    "Inspecting, cleaning, and validating the data.\n",
    "Columns\n",
    "Pregnancies: Number of times pregnant\n",
    "Glucose: Plasma glucose concentration a 2 hours in an oral glucose tolerance test\n",
    "BloodPressure: Diastolic blood pressure\n",
    "SkinThickness: Triceps skinfold thickness\n",
    "Insulin: 2-Hour serum insulin\n",
    "BMI: Body mass index\n",
    "DiabetesPedigreeFunction: Diabetes pedigree function\n",
    "Age: Age (years)\n",
    "Outcome: Class variable (0 or 1)"
   ]
  },
  {
   "cell_type": "code",
   "execution_count": 3,
   "id": "1c6f89a2",
   "metadata": {},
   "outputs": [],
   "source": [
    "import pandas as pd\n",
    "import numpy as np"
   ]
  },
  {
   "cell_type": "code",
   "execution_count": 5,
   "id": "94219f18",
   "metadata": {},
   "outputs": [
    {
     "name": "stdout",
     "output_type": "stream",
     "text": [
      "   Pregnancies  Glucose  BloodPressure  SkinThickness  Insulin   BMI  \\\n",
      "0  6            148      72             35             0        33.6   \n",
      "1  1            85       66             29             0        26.6   \n",
      "2  8            183      64             0              0        23.3   \n",
      "3  1            89       66             23             94       28.1   \n",
      "4  0            137      40             35             168      43.1   \n",
      "\n",
      "   DiabetesPedigreeFunction  Age  Outcome  \n",
      "0  0.627                     50   1        \n",
      "1  0.351                     31   0        \n",
      "2  0.672                     32   1        \n",
      "3  0.167                     21   0        \n",
      "4  2.288                     33   1        \n"
     ]
    }
   ],
   "source": [
    "# Load the data in a variable called diabetes_data and print the first few rows.\n",
    "diabetes_data = pd.read_csv('diabetes.csv')\n",
    "print(diabetes_data.head())"
   ]
  },
  {
   "cell_type": "code",
   "execution_count": 6,
   "id": "08d5ad79",
   "metadata": {},
   "outputs": [
    {
     "name": "stdout",
     "output_type": "stream",
     "text": [
      "9\n"
     ]
    }
   ],
   "source": [
    "#How many columns\n",
    "print(len(diabetes_data.columns))"
   ]
  },
  {
   "cell_type": "code",
   "execution_count": 7,
   "id": "68ebb06f",
   "metadata": {},
   "outputs": [
    {
     "name": "stdout",
     "output_type": "stream",
     "text": [
      "768\n"
     ]
    }
   ],
   "source": [
    "#How many rows\n",
    "print(len(diabetes_data))"
   ]
  },
  {
   "cell_type": "code",
   "execution_count": 8,
   "id": "57196d4d",
   "metadata": {},
   "outputs": [
    {
     "name": "stdout",
     "output_type": "stream",
     "text": [
      "Pregnancies                 0\n",
      "Glucose                     0\n",
      "BloodPressure               0\n",
      "SkinThickness               0\n",
      "Insulin                     0\n",
      "BMI                         0\n",
      "DiabetesPedigreeFunction    0\n",
      "Age                         0\n",
      "Outcome                     0\n",
      "dtype: int64\n"
     ]
    }
   ],
   "source": [
    "#null values\n",
    "print(diabetes_data.isnull().sum())"
   ]
  },
  {
   "cell_type": "code",
   "execution_count": 9,
   "id": "96be0c77",
   "metadata": {},
   "outputs": [
    {
     "name": "stdout",
     "output_type": "stream",
     "text": [
      "<class 'pandas.core.frame.DataFrame'>\n",
      "RangeIndex: 768 entries, 0 to 767\n",
      "Data columns (total 9 columns):\n",
      " #   Column                    Non-Null Count  Dtype  \n",
      "---  ------                    --------------  -----  \n",
      " 0   Pregnancies               768 non-null    int64  \n",
      " 1   Glucose                   768 non-null    int64  \n",
      " 2   BloodPressure             768 non-null    int64  \n",
      " 3   SkinThickness             768 non-null    int64  \n",
      " 4   Insulin                   768 non-null    int64  \n",
      " 5   BMI                       768 non-null    float64\n",
      " 6   DiabetesPedigreeFunction  768 non-null    float64\n",
      " 7   Age                       768 non-null    int64  \n",
      " 8   Outcome                   768 non-null    int64  \n",
      "dtypes: float64(2), int64(7)\n",
      "memory usage: 54.1 KB\n",
      "None\n"
     ]
    }
   ],
   "source": [
    "print(diabetes_data.info())"
   ]
  },
  {
   "cell_type": "code",
   "execution_count": 10,
   "id": "68e4f97d",
   "metadata": {},
   "outputs": [
    {
     "name": "stdout",
     "output_type": "stream",
     "text": [
      "       Pregnancies     Glucose  BloodPressure  SkinThickness     Insulin  \\\n",
      "count  768.000000   768.000000  768.000000     768.000000     768.000000   \n",
      "mean   3.845052     120.894531  69.105469      20.536458      79.799479    \n",
      "std    3.369578     31.972618   19.355807      15.952218      115.244002   \n",
      "min    0.000000     0.000000    0.000000       0.000000       0.000000     \n",
      "25%    1.000000     99.000000   62.000000      0.000000       0.000000     \n",
      "50%    3.000000     117.000000  72.000000      23.000000      30.500000    \n",
      "75%    6.000000     140.250000  80.000000      32.000000      127.250000   \n",
      "max    17.000000    199.000000  122.000000     99.000000      846.000000   \n",
      "\n",
      "              BMI  DiabetesPedigreeFunction         Age     Outcome  \n",
      "count  768.000000  768.000000                768.000000  768.000000  \n",
      "mean   31.992578   0.471876                  33.240885   0.348958    \n",
      "std    7.884160    0.331329                  11.760232   0.476951    \n",
      "min    0.000000    0.078000                  21.000000   0.000000    \n",
      "25%    27.300000   0.243750                  24.000000   0.000000    \n",
      "50%    32.000000   0.372500                  29.000000   0.000000    \n",
      "75%    36.600000   0.626250                  41.000000   1.000000    \n",
      "max    67.100000   2.420000                  81.000000   1.000000    \n"
     ]
    }
   ],
   "source": [
    "#summary statistics on diabates_data using the .describe() method.\n",
    "print(diabetes_data.describe())"
   ]
  },
  {
   "cell_type": "code",
   "execution_count": 12,
   "id": "d008c046",
   "metadata": {},
   "outputs": [],
   "source": [
    "#to replace the instances of 0 with NaN in the five columns\n",
    "diabetes_data[['Glucose','BloodPressure','SkinThickness','Insulin','BMI']] = diabetes_data[['Glucose','BloodPressure','SkinThickness','Insulin','BMI']].replace(0,np.NaN)"
   ]
  },
  {
   "cell_type": "code",
   "execution_count": 13,
   "id": "baeb48ab",
   "metadata": {},
   "outputs": [
    {
     "name": "stdout",
     "output_type": "stream",
     "text": [
      "Pregnancies                 0  \n",
      "Glucose                     5  \n",
      "BloodPressure               35 \n",
      "SkinThickness               227\n",
      "Insulin                     374\n",
      "BMI                         11 \n",
      "DiabetesPedigreeFunction    0  \n",
      "Age                         0  \n",
      "Outcome                     0  \n",
      "dtype: int64\n"
     ]
    }
   ],
   "source": [
    "#check null values\n",
    "print(diabetes_data.isnull().sum())"
   ]
  },
  {
   "cell_type": "code",
   "execution_count": 14,
   "id": "0014ce61",
   "metadata": {},
   "outputs": [
    {
     "name": "stdout",
     "output_type": "stream",
     "text": [
      "     Pregnancies  Glucose  BloodPressure  SkinThickness  Insulin   BMI  \\\n",
      "0    6            148.0    72.0           35.0          NaN       33.6   \n",
      "1    1            85.0     66.0           29.0          NaN       26.6   \n",
      "2    8            183.0    64.0          NaN            NaN       23.3   \n",
      "5    5            116.0    74.0          NaN            NaN       25.6   \n",
      "7    10           115.0   NaN            NaN            NaN       35.3   \n",
      "..   ..             ...    ..             ..             ..        ...   \n",
      "761  9            170.0    74.0           31.0          NaN       44.0   \n",
      "762  9            89.0     62.0          NaN            NaN       22.5   \n",
      "764  2            122.0    70.0           27.0          NaN       36.8   \n",
      "766  1            126.0    60.0          NaN            NaN       30.1   \n",
      "767  1            93.0     70.0           31.0          NaN       30.4   \n",
      "\n",
      "     DiabetesPedigreeFunction  Age  Outcome  \n",
      "0    0.627                     50   1        \n",
      "1    0.351                     31   0        \n",
      "2    0.672                     32   1        \n",
      "5    0.201                     30   0        \n",
      "7    0.134                     29   0        \n",
      "..     ...                     ..  ..        \n",
      "761  0.403                     43   1        \n",
      "762  0.142                     33   0        \n",
      "764  0.340                     27   0        \n",
      "766  0.349                     47   1        \n",
      "767  0.315                     23   0        \n",
      "\n",
      "[376 rows x 9 columns]\n"
     ]
    }
   ],
   "source": [
    "#all of the rows that contain missing (null) values\n",
    "print(diabetes_data[diabetes_data.isnull().any(axis=1)])"
   ]
  },
  {
   "cell_type": "code",
   "execution_count": 15,
   "id": "68a2f0ec",
   "metadata": {},
   "outputs": [
    {
     "name": "stdout",
     "output_type": "stream",
     "text": [
      "Pregnancies                 int64  \n",
      "Glucose                     float64\n",
      "BloodPressure               float64\n",
      "SkinThickness               float64\n",
      "Insulin                     float64\n",
      "BMI                         float64\n",
      "DiabetesPedigreeFunction    float64\n",
      "Age                         int64  \n",
      "Outcome                     int64  \n",
      "dtype: object\n"
     ]
    }
   ],
   "source": [
    "#data types of each column in diabetes_data\n",
    "print(diabetes_data.dtypes)"
   ]
  },
  {
   "cell_type": "code",
   "execution_count": 18,
   "id": "1a2ccb96",
   "metadata": {},
   "outputs": [
    {
     "name": "stdout",
     "output_type": "stream",
     "text": [
      "[1 0]\n"
     ]
    }
   ],
   "source": [
    "print(diabetes_data.Outcome.unique())\n",
    "diabetes_data[['Outcome']] = diabetes_data[['Outcome']].replace('O',0)"
   ]
  },
  {
   "cell_type": "code",
   "execution_count": null,
   "id": "1259feb3",
   "metadata": {},
   "outputs": [],
   "source": []
  }
 ],
 "metadata": {
  "kernelspec": {
   "display_name": "Python 3 (ipykernel)",
   "language": "python",
   "name": "python3"
  },
  "language_info": {
   "codemirror_mode": {
    "name": "ipython",
    "version": 3
   },
   "file_extension": ".py",
   "mimetype": "text/x-python",
   "name": "python",
   "nbconvert_exporter": "python",
   "pygments_lexer": "ipython3",
   "version": "3.9.6"
  }
 },
 "nbformat": 4,
 "nbformat_minor": 5
}
